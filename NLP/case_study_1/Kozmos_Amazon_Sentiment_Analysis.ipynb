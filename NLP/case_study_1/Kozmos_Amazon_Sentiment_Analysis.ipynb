{
 "cells": [
  {
   "metadata": {},
   "cell_type": "markdown",
   "source": "# Sentiment Analysis for Amazon Reviews\n",
   "id": "317ab0914578023d"
  },
  {
   "metadata": {},
   "cell_type": "markdown",
   "source": "## Business Problem",
   "id": "75e03c2f401d25c9"
  },
  {
   "metadata": {},
   "cell_type": "markdown",
   "source": "Kozmos, which focuses on home textiles and daily clothing productions sold through Amazon, aims to increase its sales by analyzing customer reviews and improving its products based on received complaints. In line with this goal, sentiment analysis will be performed on the reviews, and the labeled data will be used to create a classification model.",
   "id": "be9f1d4bd5af9574"
  },
  {
   "metadata": {},
   "cell_type": "markdown",
   "source": "## Dataset Story",
   "id": "654527d1dedcab8f"
  },
  {
   "metadata": {},
   "cell_type": "markdown",
   "source": "The dataset consists of reviews made for a specific product group, including variables such as the review title, star rating, and the number of people who found the review helpful.",
   "id": "8be39bd21405175a"
  },
  {
   "metadata": {},
   "cell_type": "markdown",
   "source": "### Required Libraries",
   "id": "2900b26540d19d69"
  },
  {
   "metadata": {
    "ExecuteTime": {
     "end_time": "2025-02-21T21:45:18.731052Z",
     "start_time": "2025-02-21T21:45:16.670578Z"
    }
   },
   "cell_type": "code",
   "source": [
    "from warnings import filterwarnings\n",
    "import matplotlib.pyplot as plt\n",
    "import numpy as np\n",
    "import pandas as pd\n",
    "from PIL import Image\n",
    "from nltk.corpus import stopwords\n",
    "from nltk.sentiment import SentimentIntensityAnalyzer\n",
    "from sklearn.ensemble import RandomForestClassifier\n",
    "from sklearn.linear_model import LogisticRegression\n",
    "from sklearn.model_selection import cross_val_score, GridSearchCV, cross_validate\n",
    "from sklearn.preprocessing import LabelEncoder\n",
    "from surprise.model_selection import train_test_split\n",
    "from textblob import Word, TextBlob\n",
    "from wordcloud import WordCloud\n",
    "from sklearn.metrics import classification_report\n",
    "from sklearn.linear_model import LogisticRegression\n",
    "from sklearn.model_selection import cross_val_score\n",
    "\n",
    "filterwarnings('ignore')\n",
    "pd.set_option('display.max_columns', None)\n",
    "pd.set_option('display.width', 200)\n",
    "pd.set_option('display.float_format', lambda x: '%.2f' % x)"
   ],
   "id": "bde13d667e80984",
   "outputs": [],
   "execution_count": 1
  },
  {
   "metadata": {},
   "cell_type": "markdown",
   "source": "## Text Preprocessing",
   "id": "2b2519dc0c25aba7"
  },
  {
   "metadata": {
    "ExecuteTime": {
     "end_time": "2025-02-21T21:45:22.721065Z",
     "start_time": "2025-02-21T21:45:22.489303Z"
    }
   },
   "cell_type": "code",
   "source": [
    "df = pd.read_excel(\"/Users/gozdekizilkaya/PycharmProjects/miuulpythonProject/pythonProject/NLP/case_study_1/amazon.xlsx\")\n",
    "df.head()"
   ],
   "id": "5ebbbf1254997986",
   "outputs": [
    {
     "data": {
      "text/plain": [
       "   Star  HelpFul                                          Title                                             Review\n",
       "0     5        0                                    looks great                                      Happy with it\n",
       "1     5        0  Pattern did not align between the two panels.  Good quality material however the panels are m...\n",
       "2     5        0               Imagery is stretched. Still fun.  Product was fun for bedroom windows.<br />Imag...\n",
       "3     5        0                 Que se ven elegantes muy finas   Lo unico que me gustaria es que sean un poco ...\n",
       "4     5        0                             Wow great purchase  Great bang for the buck I can't believe the qu..."
      ],
      "text/html": [
       "<div>\n",
       "<style scoped>\n",
       "    .dataframe tbody tr th:only-of-type {\n",
       "        vertical-align: middle;\n",
       "    }\n",
       "\n",
       "    .dataframe tbody tr th {\n",
       "        vertical-align: top;\n",
       "    }\n",
       "\n",
       "    .dataframe thead th {\n",
       "        text-align: right;\n",
       "    }\n",
       "</style>\n",
       "<table border=\"1\" class=\"dataframe\">\n",
       "  <thead>\n",
       "    <tr style=\"text-align: right;\">\n",
       "      <th></th>\n",
       "      <th>Star</th>\n",
       "      <th>HelpFul</th>\n",
       "      <th>Title</th>\n",
       "      <th>Review</th>\n",
       "    </tr>\n",
       "  </thead>\n",
       "  <tbody>\n",
       "    <tr>\n",
       "      <th>0</th>\n",
       "      <td>5</td>\n",
       "      <td>0</td>\n",
       "      <td>looks great</td>\n",
       "      <td>Happy with it</td>\n",
       "    </tr>\n",
       "    <tr>\n",
       "      <th>1</th>\n",
       "      <td>5</td>\n",
       "      <td>0</td>\n",
       "      <td>Pattern did not align between the two panels.</td>\n",
       "      <td>Good quality material however the panels are m...</td>\n",
       "    </tr>\n",
       "    <tr>\n",
       "      <th>2</th>\n",
       "      <td>5</td>\n",
       "      <td>0</td>\n",
       "      <td>Imagery is stretched. Still fun.</td>\n",
       "      <td>Product was fun for bedroom windows.&lt;br /&gt;Imag...</td>\n",
       "    </tr>\n",
       "    <tr>\n",
       "      <th>3</th>\n",
       "      <td>5</td>\n",
       "      <td>0</td>\n",
       "      <td>Que se ven elegantes muy finas</td>\n",
       "      <td>Lo unico que me gustaria es que sean un poco ...</td>\n",
       "    </tr>\n",
       "    <tr>\n",
       "      <th>4</th>\n",
       "      <td>5</td>\n",
       "      <td>0</td>\n",
       "      <td>Wow great purchase</td>\n",
       "      <td>Great bang for the buck I can't believe the qu...</td>\n",
       "    </tr>\n",
       "  </tbody>\n",
       "</table>\n",
       "</div>"
      ]
     },
     "execution_count": 2,
     "metadata": {},
     "output_type": "execute_result"
    }
   ],
   "execution_count": 2
  },
  {
   "metadata": {
    "ExecuteTime": {
     "end_time": "2025-02-21T21:45:25.445046Z",
     "start_time": "2025-02-21T21:45:25.440333Z"
    }
   },
   "cell_type": "code",
   "source": "df.shape",
   "id": "aa740d3fe04f8845",
   "outputs": [
    {
     "data": {
      "text/plain": [
       "(5611, 4)"
      ]
     },
     "execution_count": 3,
     "metadata": {},
     "output_type": "execute_result"
    }
   ],
   "execution_count": 3
  },
  {
   "metadata": {
    "ExecuteTime": {
     "end_time": "2025-02-21T21:45:27.865613Z",
     "start_time": "2025-02-21T21:45:27.851063Z"
    }
   },
   "cell_type": "code",
   "source": "df.info()",
   "id": "1bb261e8f59dea3d",
   "outputs": [
    {
     "name": "stdout",
     "output_type": "stream",
     "text": [
      "<class 'pandas.core.frame.DataFrame'>\n",
      "RangeIndex: 5611 entries, 0 to 5610\n",
      "Data columns (total 4 columns):\n",
      " #   Column   Non-Null Count  Dtype \n",
      "---  ------   --------------  ----- \n",
      " 0   Star     5611 non-null   int64 \n",
      " 1   HelpFul  5611 non-null   int64 \n",
      " 2   Title    5559 non-null   object\n",
      " 3   Review   5593 non-null   object\n",
      "dtypes: int64(2), object(2)\n",
      "memory usage: 175.5+ KB\n"
     ]
    }
   ],
   "execution_count": 4
  },
  {
   "metadata": {},
   "cell_type": "markdown",
   "source": [
    "\n",
    "### Normalizing Case Folding\n",
    "\n",
    "\n"
   ],
   "id": "3e4b3de8488855cc"
  },
  {
   "metadata": {
    "ExecuteTime": {
     "end_time": "2025-02-21T21:45:42.133283Z",
     "start_time": "2025-02-21T21:45:42.120698Z"
    }
   },
   "cell_type": "code",
   "source": [
    "df['Review'] = df['Review'].str.lower()\n",
    "df['Review']"
   ],
   "id": "e5cf9d2fb394c94f",
   "outputs": [
    {
     "data": {
      "text/plain": [
       "0                                           happy with it\n",
       "1       good quality material however the panels are m...\n",
       "2       product was fun for bedroom windows.<br />imag...\n",
       "3        lo unico que me gustaria es que sean un poco ...\n",
       "4       great bang for the buck i can't believe the qu...\n",
       "                              ...                        \n",
       "5606    great product for reasonable money.  delivered...\n",
       "5607             color is way off and panels do not match\n",
       "5608    these are great for my studio as they compleme...\n",
       "5609    brought out the beauty in kids room. they love...\n",
       "5610    very cute curtains in my sons room! thick enou...\n",
       "Name: Review, Length: 5611, dtype: object"
      ]
     },
     "execution_count": 5,
     "metadata": {},
     "output_type": "execute_result"
    }
   ],
   "execution_count": 5
  },
  {
   "metadata": {},
   "cell_type": "markdown",
   "source": "### Removing Punctuation",
   "id": "284561faf2130af3"
  },
  {
   "metadata": {
    "ExecuteTime": {
     "end_time": "2025-02-21T21:45:56.513782Z",
     "start_time": "2025-02-21T21:45:56.494279Z"
    }
   },
   "cell_type": "code",
   "source": [
    "df['Review'] = df['Review'].str.replace('[^\\w\\s]', '', regex=True)\n",
    "df['Review']"
   ],
   "id": "f899be881dbeb47d",
   "outputs": [
    {
     "data": {
      "text/plain": [
       "0                                           happy with it\n",
       "1       good quality material however the panels are m...\n",
       "2       product was fun for bedroom windowsbr imagery ...\n",
       "3        lo unico que me gustaria es que sean un poco ...\n",
       "4       great bang for the buck i cant believe the qua...\n",
       "                              ...                        \n",
       "5606    great product for reasonable money  delivered ...\n",
       "5607             color is way off and panels do not match\n",
       "5608    these are great for my studio as they compleme...\n",
       "5609     brought out the beauty in kids room they love it\n",
       "5610    very cute curtains in my sons room thick enoug...\n",
       "Name: Review, Length: 5611, dtype: object"
      ]
     },
     "execution_count": 6,
     "metadata": {},
     "output_type": "execute_result"
    }
   ],
   "execution_count": 6
  },
  {
   "metadata": {},
   "cell_type": "markdown",
   "source": "### Removing Numerical Values",
   "id": "9d0ad612e04de1a5"
  },
  {
   "metadata": {
    "ExecuteTime": {
     "end_time": "2025-02-21T21:46:20.995549Z",
     "start_time": "2025-02-21T21:46:20.970901Z"
    }
   },
   "cell_type": "code",
   "source": [
    "df['Review'] = df['Review'] .str.replace('\\d', '', regex=True)\n",
    "df['Review']"
   ],
   "id": "559540cfdc8ff473",
   "outputs": [
    {
     "data": {
      "text/plain": [
       "0                                           happy with it\n",
       "1       good quality material however the panels are m...\n",
       "2       product was fun for bedroom windowsbr imagery ...\n",
       "3        lo unico que me gustaria es que sean un poco ...\n",
       "4       great bang for the buck i cant believe the qua...\n",
       "                              ...                        \n",
       "5606    great product for reasonable money  delivered ...\n",
       "5607             color is way off and panels do not match\n",
       "5608    these are great for my studio as they compleme...\n",
       "5609     brought out the beauty in kids room they love it\n",
       "5610    very cute curtains in my sons room thick enoug...\n",
       "Name: Review, Length: 5611, dtype: object"
      ]
     },
     "execution_count": 7,
     "metadata": {},
     "output_type": "execute_result"
    }
   ],
   "execution_count": 7
  },
  {
   "metadata": {},
   "cell_type": "markdown",
   "source": "### Removing Stopwords",
   "id": "19314d46e0213b4b"
  },
  {
   "metadata": {
    "ExecuteTime": {
     "end_time": "2025-02-21T21:46:36.249324Z",
     "start_time": "2025-02-21T21:46:36.232100Z"
    }
   },
   "cell_type": "code",
   "source": [
    "sw = stopwords.words('english')\n",
    "sw"
   ],
   "id": "d2d447139fed1546",
   "outputs": [
    {
     "data": {
      "text/plain": [
       "['a',\n",
       " 'about',\n",
       " 'above',\n",
       " 'after',\n",
       " 'again',\n",
       " 'against',\n",
       " 'ain',\n",
       " 'all',\n",
       " 'am',\n",
       " 'an',\n",
       " 'and',\n",
       " 'any',\n",
       " 'are',\n",
       " 'aren',\n",
       " \"aren't\",\n",
       " 'as',\n",
       " 'at',\n",
       " 'be',\n",
       " 'because',\n",
       " 'been',\n",
       " 'before',\n",
       " 'being',\n",
       " 'below',\n",
       " 'between',\n",
       " 'both',\n",
       " 'but',\n",
       " 'by',\n",
       " 'can',\n",
       " 'couldn',\n",
       " \"couldn't\",\n",
       " 'd',\n",
       " 'did',\n",
       " 'didn',\n",
       " \"didn't\",\n",
       " 'do',\n",
       " 'does',\n",
       " 'doesn',\n",
       " \"doesn't\",\n",
       " 'doing',\n",
       " 'don',\n",
       " \"don't\",\n",
       " 'down',\n",
       " 'during',\n",
       " 'each',\n",
       " 'few',\n",
       " 'for',\n",
       " 'from',\n",
       " 'further',\n",
       " 'had',\n",
       " 'hadn',\n",
       " \"hadn't\",\n",
       " 'has',\n",
       " 'hasn',\n",
       " \"hasn't\",\n",
       " 'have',\n",
       " 'haven',\n",
       " \"haven't\",\n",
       " 'having',\n",
       " 'he',\n",
       " \"he'd\",\n",
       " \"he'll\",\n",
       " 'her',\n",
       " 'here',\n",
       " 'hers',\n",
       " 'herself',\n",
       " \"he's\",\n",
       " 'him',\n",
       " 'himself',\n",
       " 'his',\n",
       " 'how',\n",
       " 'i',\n",
       " \"i'd\",\n",
       " 'if',\n",
       " \"i'll\",\n",
       " \"i'm\",\n",
       " 'in',\n",
       " 'into',\n",
       " 'is',\n",
       " 'isn',\n",
       " \"isn't\",\n",
       " 'it',\n",
       " \"it'd\",\n",
       " \"it'll\",\n",
       " \"it's\",\n",
       " 'its',\n",
       " 'itself',\n",
       " \"i've\",\n",
       " 'just',\n",
       " 'll',\n",
       " 'm',\n",
       " 'ma',\n",
       " 'me',\n",
       " 'mightn',\n",
       " \"mightn't\",\n",
       " 'more',\n",
       " 'most',\n",
       " 'mustn',\n",
       " \"mustn't\",\n",
       " 'my',\n",
       " 'myself',\n",
       " 'needn',\n",
       " \"needn't\",\n",
       " 'no',\n",
       " 'nor',\n",
       " 'not',\n",
       " 'now',\n",
       " 'o',\n",
       " 'of',\n",
       " 'off',\n",
       " 'on',\n",
       " 'once',\n",
       " 'only',\n",
       " 'or',\n",
       " 'other',\n",
       " 'our',\n",
       " 'ours',\n",
       " 'ourselves',\n",
       " 'out',\n",
       " 'over',\n",
       " 'own',\n",
       " 're',\n",
       " 's',\n",
       " 'same',\n",
       " 'shan',\n",
       " \"shan't\",\n",
       " 'she',\n",
       " \"she'd\",\n",
       " \"she'll\",\n",
       " \"she's\",\n",
       " 'should',\n",
       " 'shouldn',\n",
       " \"shouldn't\",\n",
       " \"should've\",\n",
       " 'so',\n",
       " 'some',\n",
       " 'such',\n",
       " 't',\n",
       " 'than',\n",
       " 'that',\n",
       " \"that'll\",\n",
       " 'the',\n",
       " 'their',\n",
       " 'theirs',\n",
       " 'them',\n",
       " 'themselves',\n",
       " 'then',\n",
       " 'there',\n",
       " 'these',\n",
       " 'they',\n",
       " \"they'd\",\n",
       " \"they'll\",\n",
       " \"they're\",\n",
       " \"they've\",\n",
       " 'this',\n",
       " 'those',\n",
       " 'through',\n",
       " 'to',\n",
       " 'too',\n",
       " 'under',\n",
       " 'until',\n",
       " 'up',\n",
       " 've',\n",
       " 'very',\n",
       " 'was',\n",
       " 'wasn',\n",
       " \"wasn't\",\n",
       " 'we',\n",
       " \"we'd\",\n",
       " \"we'll\",\n",
       " \"we're\",\n",
       " 'were',\n",
       " 'weren',\n",
       " \"weren't\",\n",
       " \"we've\",\n",
       " 'what',\n",
       " 'when',\n",
       " 'where',\n",
       " 'which',\n",
       " 'while',\n",
       " 'who',\n",
       " 'whom',\n",
       " 'why',\n",
       " 'will',\n",
       " 'with',\n",
       " 'won',\n",
       " \"won't\",\n",
       " 'wouldn',\n",
       " \"wouldn't\",\n",
       " 'y',\n",
       " 'you',\n",
       " \"you'd\",\n",
       " \"you'll\",\n",
       " 'your',\n",
       " \"you're\",\n",
       " 'yours',\n",
       " 'yourself',\n",
       " 'yourselves',\n",
       " \"you've\"]"
      ]
     },
     "execution_count": 8,
     "metadata": {},
     "output_type": "execute_result"
    }
   ],
   "execution_count": 8
  },
  {
   "metadata": {
    "ExecuteTime": {
     "end_time": "2025-02-21T21:46:48.456611Z",
     "start_time": "2025-02-21T21:46:48.339549Z"
    }
   },
   "cell_type": "code",
   "source": [
    "df['Review'] = df['Review'].apply(lambda x: \" \".join(x for x in str(x).split() if x not in sw))\n",
    "df[\"Review\"]"
   ],
   "id": "1eb8ea112aa38f49",
   "outputs": [
    {
     "data": {
      "text/plain": [
       "0                                                   happy\n",
       "1         good quality material however panels mismatched\n",
       "2       product fun bedroom windowsbr imagery bit stre...\n",
       "3       lo unico que gustaria es que sean un poco mas ...\n",
       "4       great bang buck cant believe quality material ...\n",
       "                              ...                        \n",
       "5606    great product reasonable money delivered quick...\n",
       "5607                               color way panels match\n",
       "5608    great studio complement entire theme studioliv...\n",
       "5609                        brought beauty kids room love\n",
       "5610      cute curtains sons room thick enough keep light\n",
       "Name: Review, Length: 5611, dtype: object"
      ]
     },
     "execution_count": 9,
     "metadata": {},
     "output_type": "execute_result"
    }
   ],
   "execution_count": 9
  },
  {
   "metadata": {},
   "cell_type": "markdown",
   "source": "### Removing Rarewords",
   "id": "c213401bbd1820c9"
  },
  {
   "metadata": {
    "ExecuteTime": {
     "end_time": "2025-02-21T21:47:51.676520Z",
     "start_time": "2025-02-21T21:47:51.641722Z"
    }
   },
   "cell_type": "code",
   "source": [
    "drops = pd.Series(' '.join(df['Review']).split()).value_counts()[-1000:]\n",
    "drops"
   ],
   "id": "a9215358ee4f9057",
   "outputs": [
    {
     "data": {
      "text/plain": [
       "keen              1\n",
       "interpretation    1\n",
       "greatwould        1\n",
       "percect           1\n",
       "nother            1\n",
       "                 ..\n",
       "neato             1\n",
       "decormatches      1\n",
       "thx               1\n",
       "pricebrid         1\n",
       "studioliving      1\n",
       "Name: count, Length: 1000, dtype: int64"
      ]
     },
     "execution_count": 10,
     "metadata": {},
     "output_type": "execute_result"
    }
   ],
   "execution_count": 10
  },
  {
   "metadata": {
    "ExecuteTime": {
     "end_time": "2025-02-21T21:48:07.549511Z",
     "start_time": "2025-02-21T21:48:07.470096Z"
    }
   },
   "cell_type": "code",
   "source": [
    "df['Review'] = df['Review'].apply(lambda x: \" \".join(x for x in x.split() if x not in drops))\n",
    "df['Review']"
   ],
   "id": "aaef1ac4dfcfeee2",
   "outputs": [
    {
     "data": {
      "text/plain": [
       "0                                                   happy\n",
       "1         good quality material however panels mismatched\n",
       "2       product fun bedroom windowsbr imagery bit stre...\n",
       "3       lo unico que gustaria es que sean un poco mas ...\n",
       "4       great bang buck cant believe quality material ...\n",
       "                              ...                        \n",
       "5606    great product reasonable money delivered quick...\n",
       "5607                               color way panels match\n",
       "5608    great studio complement entire theme area phot...\n",
       "5609                        brought beauty kids room love\n",
       "5610      cute curtains sons room thick enough keep light\n",
       "Name: Review, Length: 5611, dtype: object"
      ]
     },
     "execution_count": 11,
     "metadata": {},
     "output_type": "execute_result"
    }
   ],
   "execution_count": 11
  },
  {
   "metadata": {},
   "cell_type": "markdown",
   "source": "### Lemmatization",
   "id": "d1338257da9ea540"
  },
  {
   "metadata": {
    "ExecuteTime": {
     "end_time": "2025-02-21T21:49:35.795790Z",
     "start_time": "2025-02-21T21:49:33.946213Z"
    }
   },
   "cell_type": "code",
   "source": [
    "import nltk\n",
    "from nltk.stem import WordNetLemmatizer\n",
    "nltk.download('punkt')\n",
    "nltk.download('wordnet')\n",
    "\n",
    "df['Review'] = df['Review'].apply(lambda x: \" \".join([Word(word).lemmatize() for word in x.split()]))\n",
    "df['Review']"
   ],
   "id": "4e114f37e256421f",
   "outputs": [
    {
     "name": "stderr",
     "output_type": "stream",
     "text": [
      "[nltk_data] Downloading package punkt to\n",
      "[nltk_data]     /Users/gozdekizilkaya/nltk_data...\n",
      "[nltk_data]   Package punkt is already up-to-date!\n",
      "[nltk_data] Downloading package wordnet to\n",
      "[nltk_data]     /Users/gozdekizilkaya/nltk_data...\n",
      "[nltk_data]   Package wordnet is already up-to-date!\n"
     ]
    },
    {
     "data": {
      "text/plain": [
       "0                                                   happy\n",
       "1          good quality material however panel mismatched\n",
       "2       product fun bedroom windowsbr imagery bit stre...\n",
       "3       lo unico que gustaria e que sean un poco ma la...\n",
       "4       great bang buck cant believe quality material ...\n",
       "                              ...                        \n",
       "5606    great product reasonable money delivered quick...\n",
       "5607                                color way panel match\n",
       "5608    great studio complement entire theme area phot...\n",
       "5609                         brought beauty kid room love\n",
       "5610        cute curtain son room thick enough keep light\n",
       "Name: Review, Length: 5611, dtype: object"
      ]
     },
     "execution_count": 12,
     "metadata": {},
     "output_type": "execute_result"
    }
   ],
   "execution_count": 12
  },
  {
   "metadata": {},
   "cell_type": "markdown",
   "source": "## Text Visualization",
   "id": "99e9ba9f77e68ece"
  },
  {
   "metadata": {},
   "cell_type": "markdown",
   "source": "### Calculation of Term Frequencies",
   "id": "edbb8e9e14eeabfc"
  },
  {
   "metadata": {
    "ExecuteTime": {
     "end_time": "2025-02-21T21:49:59.365653Z",
     "start_time": "2025-02-21T21:49:57.601107Z"
    }
   },
   "cell_type": "code",
   "source": [
    "tf = df[\"Review\"].apply(lambda x: pd.value_counts(x.split(\" \"))).sum(axis=0).reset_index()\n",
    "tf.columns = [\"words\", \"tf\"]\n",
    "tf.sort_values(\"tf\", ascending=False)"
   ],
   "id": "308e6c4f3588d007",
   "outputs": [
    {
     "data": {
      "text/plain": [
       "             words      tf\n",
       "66         curtain 2588.00\n",
       "42            look 1531.00\n",
       "120           love 1453.00\n",
       "104           room 1129.00\n",
       "166           like 1053.00\n",
       "...            ...     ...\n",
       "2877     unwuiness    1.00\n",
       "2879        enters    1.00\n",
       "2880  soonbrlittle    1.00\n",
       "2881    isbrbrlove    1.00\n",
       "5265            sm    1.00\n",
       "\n",
       "[5266 rows x 2 columns]"
      ],
      "text/html": [
       "<div>\n",
       "<style scoped>\n",
       "    .dataframe tbody tr th:only-of-type {\n",
       "        vertical-align: middle;\n",
       "    }\n",
       "\n",
       "    .dataframe tbody tr th {\n",
       "        vertical-align: top;\n",
       "    }\n",
       "\n",
       "    .dataframe thead th {\n",
       "        text-align: right;\n",
       "    }\n",
       "</style>\n",
       "<table border=\"1\" class=\"dataframe\">\n",
       "  <thead>\n",
       "    <tr style=\"text-align: right;\">\n",
       "      <th></th>\n",
       "      <th>words</th>\n",
       "      <th>tf</th>\n",
       "    </tr>\n",
       "  </thead>\n",
       "  <tbody>\n",
       "    <tr>\n",
       "      <th>66</th>\n",
       "      <td>curtain</td>\n",
       "      <td>2588.00</td>\n",
       "    </tr>\n",
       "    <tr>\n",
       "      <th>42</th>\n",
       "      <td>look</td>\n",
       "      <td>1531.00</td>\n",
       "    </tr>\n",
       "    <tr>\n",
       "      <th>120</th>\n",
       "      <td>love</td>\n",
       "      <td>1453.00</td>\n",
       "    </tr>\n",
       "    <tr>\n",
       "      <th>104</th>\n",
       "      <td>room</td>\n",
       "      <td>1129.00</td>\n",
       "    </tr>\n",
       "    <tr>\n",
       "      <th>166</th>\n",
       "      <td>like</td>\n",
       "      <td>1053.00</td>\n",
       "    </tr>\n",
       "    <tr>\n",
       "      <th>...</th>\n",
       "      <td>...</td>\n",
       "      <td>...</td>\n",
       "    </tr>\n",
       "    <tr>\n",
       "      <th>2877</th>\n",
       "      <td>unwuiness</td>\n",
       "      <td>1.00</td>\n",
       "    </tr>\n",
       "    <tr>\n",
       "      <th>2879</th>\n",
       "      <td>enters</td>\n",
       "      <td>1.00</td>\n",
       "    </tr>\n",
       "    <tr>\n",
       "      <th>2880</th>\n",
       "      <td>soonbrlittle</td>\n",
       "      <td>1.00</td>\n",
       "    </tr>\n",
       "    <tr>\n",
       "      <th>2881</th>\n",
       "      <td>isbrbrlove</td>\n",
       "      <td>1.00</td>\n",
       "    </tr>\n",
       "    <tr>\n",
       "      <th>5265</th>\n",
       "      <td>sm</td>\n",
       "      <td>1.00</td>\n",
       "    </tr>\n",
       "  </tbody>\n",
       "</table>\n",
       "<p>5266 rows × 2 columns</p>\n",
       "</div>"
      ]
     },
     "execution_count": 13,
     "metadata": {},
     "output_type": "execute_result"
    }
   ],
   "execution_count": 13
  },
  {
   "metadata": {},
   "cell_type": "markdown",
   "source": "### Barplot",
   "id": "93cfab7c2e76d02f"
  },
  {
   "metadata": {
    "ExecuteTime": {
     "end_time": "2025-02-21T21:50:11.255914Z",
     "start_time": "2025-02-21T21:50:11.126665Z"
    }
   },
   "cell_type": "code",
   "source": [
    "tf[tf[\"tf\"] > 500].plot.bar(x=\"words\", y=\"tf\", color=\"green\", figsize=(10,5))\n",
    "plt.show()"
   ],
   "id": "9c7115b24ccce616",
   "outputs": [
    {
     "data": {
      "text/plain": [
       "<Figure size 1000x500 with 1 Axes>"
      ],
      "image/png": "[encoded data removed]"
     },
     "metadata": {},
     "output_type": "display_data"
    }
   ],
   "execution_count": 14
  },
  {
   "metadata": {},
   "cell_type": "markdown",
   "source": "### Wordcloud",
   "id": "478dc33b37c3c6de"
  },
  {
   "metadata": {
    "ExecuteTime": {
     "end_time": "2025-02-21T21:50:43.620393Z",
     "start_time": "2025-02-21T21:50:43.366994Z"
    }
   },
   "cell_type": "code",
   "source": [
    "text = \" \".join(i for i in df.Review)\n",
    "\n",
    "wordcloud = WordCloud(max_font_size=70,\n",
    "                      max_words=100,\n",
    "                      background_color=\"white\").generate(text)\n",
    "plt.figure()\n",
    "plt.imshow(wordcloud, interpolation=\"bilinear\")\n",
    "plt.axis(\"off\")\n",
    "plt.show()"
   ],
   "id": "a6beb5a3ef1d2866",
   "outputs": [
    {
     "data": {
      "text/plain": [
       "<Figure size 640x480 with 1 Axes>"
      ],
      "image/png": "[encoded data removed]"
     },
     "metadata": {},
     "output_type": "display_data"
    }
   ],
   "execution_count": 15
  },
  {
   "metadata": {},
   "cell_type": "markdown",
   "source": "## Sentiment Analysis",
   "id": "32992a247e46594b"
  },
  {
   "metadata": {},
   "cell_type": "code",
   "source": "df[\"Review\"].head()",
   "id": "616f57805a05c6a2",
   "outputs": [],
   "execution_count": null
  },
  {
   "metadata": {
    "ExecuteTime": {
     "end_time": "2025-02-21T21:54:00.109389Z",
     "start_time": "2025-02-21T21:54:00.082523Z"
    }
   },
   "cell_type": "code",
   "source": [
    "import nltk\n",
    "from nltk.sentiment import SentimentIntensityAnalyzer\n",
    "nltk.download('vader_lexicon')\n",
    "\n",
    "sia = SentimentIntensityAnalyzer()\n",
    "\n",
    "df[\"Review\"][0:10].apply(lambda x: sia.polarity_scores(x))"
   ],
   "id": "28e9862bc7e80cc4",
   "outputs": [
    {
     "name": "stderr",
     "output_type": "stream",
     "text": [
      "[nltk_data] Downloading package vader_lexicon to\n",
      "[nltk_data]     /Users/gozdekizilkaya/nltk_data...\n",
      "[nltk_data]   Package vader_lexicon is already up-to-date!\n"
     ]
    },
    {
     "data": {
      "text/plain": [
       "0    {'neg': 0.0, 'neu': 0.0, 'pos': 1.0, 'compound...\n",
       "1    {'neg': 0.0, 'neu': 0.633, 'pos': 0.367, 'comp...\n",
       "2    {'neg': 0.0, 'neu': 0.647, 'pos': 0.353, 'comp...\n",
       "3    {'neg': 0.0, 'neu': 1.0, 'pos': 0.0, 'compound...\n",
       "4    {'neg': 0.0, 'neu': 0.517, 'pos': 0.483, 'comp...\n",
       "5    {'neg': 0.0, 'neu': 1.0, 'pos': 0.0, 'compound...\n",
       "6    {'neg': 0.0, 'neu': 0.631, 'pos': 0.369, 'comp...\n",
       "7    {'neg': 0.0, 'neu': 0.578, 'pos': 0.422, 'comp...\n",
       "8    {'neg': 0.0, 'neu': 1.0, 'pos': 0.0, 'compound...\n",
       "9    {'neg': 0.0, 'neu': 0.772, 'pos': 0.228, 'comp...\n",
       "Name: Review, dtype: object"
      ]
     },
     "execution_count": 16,
     "metadata": {},
     "output_type": "execute_result"
    }
   ],
   "execution_count": 16
  },
  {
   "metadata": {
    "ExecuteTime": {
     "end_time": "2025-02-21T21:54:11.275327Z",
     "start_time": "2025-02-21T21:54:11.267744Z"
    }
   },
   "cell_type": "code",
   "source": [
    "df[\"Polarity_Score\"] = df[\"Review\"][0:10].apply(lambda x: sia.polarity_scores(x)[\"compound\"])\n",
    "df[\"Polarity_Score\"]"
   ],
   "id": "b8b8c9bc01fa9c31",
   "outputs": [
    {
     "data": {
      "text/plain": [
       "0      0.57\n",
       "1      0.44\n",
       "2      0.72\n",
       "3      0.00\n",
       "4      0.90\n",
       "       ... \n",
       "5606    NaN\n",
       "5607    NaN\n",
       "5608    NaN\n",
       "5609    NaN\n",
       "5610    NaN\n",
       "Name: Polarity_Score, Length: 5611, dtype: float64"
      ]
     },
     "execution_count": 17,
     "metadata": {},
     "output_type": "execute_result"
    }
   ],
   "execution_count": 17
  },
  {
   "metadata": {
    "ExecuteTime": {
     "end_time": "2025-02-21T21:54:21.398179Z",
     "start_time": "2025-02-21T21:54:21.031005Z"
    }
   },
   "cell_type": "code",
   "source": [
    "df[\"Sentiment_Label\"] = df[\"Review\"].apply(lambda x: \"pos\" if sia.polarity_scores(x)[\"compound\"] > 0 else \"neg\")\n",
    "df[\"Sentiment_Label\"]"
   ],
   "id": "53191af22e29c254",
   "outputs": [
    {
     "data": {
      "text/plain": [
       "0       pos\n",
       "1       pos\n",
       "2       pos\n",
       "3       neg\n",
       "4       pos\n",
       "       ... \n",
       "5606    pos\n",
       "5607    neg\n",
       "5608    pos\n",
       "5609    pos\n",
       "5610    pos\n",
       "Name: Sentiment_Label, Length: 5611, dtype: object"
      ]
     },
     "execution_count": 18,
     "metadata": {},
     "output_type": "execute_result"
    }
   ],
   "execution_count": 18
  },
  {
   "metadata": {
    "ExecuteTime": {
     "end_time": "2025-02-21T21:54:34.133161Z",
     "start_time": "2025-02-21T21:54:34.123186Z"
    }
   },
   "cell_type": "code",
   "source": "df[\"Sentiment_Label\"].value_counts()",
   "id": "db2463774d2fb0bc",
   "outputs": [
    {
     "data": {
      "text/plain": [
       "Sentiment_Label\n",
       "pos    4764\n",
       "neg     847\n",
       "Name: count, dtype: int64"
      ]
     },
     "execution_count": 19,
     "metadata": {},
     "output_type": "execute_result"
    }
   ],
   "execution_count": 19
  },
  {
   "metadata": {
    "ExecuteTime": {
     "end_time": "2025-02-21T21:55:17.136898Z",
     "start_time": "2025-02-21T21:55:17.113348Z"
    }
   },
   "cell_type": "code",
   "source": "df.groupby(\"Sentiment_Label\")[\"Star\"].mean()",
   "id": "8b9aa0bf428ab6e0",
   "outputs": [
    {
     "data": {
      "text/plain": [
       "Sentiment_Label\n",
       "neg   3.39\n",
       "pos   4.59\n",
       "Name: Star, dtype: float64"
      ]
     },
     "execution_count": 20,
     "metadata": {},
     "output_type": "execute_result"
    }
   ],
   "execution_count": 20
  },
  {
   "metadata": {},
   "cell_type": "markdown",
   "source": "By labeling comments with Sentiment Intensity Analyzer, the dependent variable for the comment classification machine learning model was created.\n",
   "id": "a00610023192d186"
  },
  {
   "metadata": {},
   "cell_type": "markdown",
   "source": "## Machine Learning Preparation",
   "id": "f02bfdb3e0ede2b"
  },
  {
   "metadata": {
    "ExecuteTime": {
     "end_time": "2025-02-21T21:57:01.453390Z",
     "start_time": "2025-02-21T21:57:01.438233Z"
    }
   },
   "cell_type": "code",
   "source": [
    "from sklearn.model_selection import train_test_split\n",
    "\n",
    "train_x, test_x, train_y, test_y = train_test_split(df[\"Review\"],\n",
    "                                                   df[\"Sentiment_Label\"],\n",
    "                                                   random_state=42)"
   ],
   "id": "919aa9d14030cf45",
   "outputs": [],
   "execution_count": 21
  },
  {
   "metadata": {},
   "cell_type": "markdown",
   "source": "### Creating a TF-IDF Vectorizer\n",
   "id": "c558058f4d5a2a55"
  },
  {
   "metadata": {
    "ExecuteTime": {
     "end_time": "2025-02-21T21:58:26.835415Z",
     "start_time": "2025-02-21T21:58:26.830114Z"
    }
   },
   "cell_type": "code",
   "source": [
    "from sklearn.feature_extraction.text import TfidfVectorizer\n",
    "\n",
    "tfidf = TfidfVectorizer()"
   ],
   "id": "a3c22faada81a96f",
   "outputs": [],
   "execution_count": 22
  },
  {
   "metadata": {},
   "cell_type": "markdown",
   "source": "### Vectorizing the Training Data",
   "id": "68c3e4dcf35e1d00"
  },
  {
   "metadata": {
    "ExecuteTime": {
     "end_time": "2025-02-21T22:00:13.371842Z",
     "start_time": "2025-02-21T22:00:13.312140Z"
    }
   },
   "cell_type": "code",
   "source": [
    "X_train_tfidf = tfidf.fit_transform(train_x)\n",
    "X_test_tfidf = tfidf.transform(test_x)"
   ],
   "id": "375ca9095ca4fbb8",
   "outputs": [],
   "execution_count": 23
  },
  {
   "metadata": {},
   "cell_type": "markdown",
   "source": "## Modeling (Logistic Regression)\n",
   "id": "b94136942a187df6"
  },
  {
   "metadata": {},
   "cell_type": "markdown",
   "source": "### Model Training\n",
   "id": "e7f1884668109106"
  },
  {
   "metadata": {
    "ExecuteTime": {
     "end_time": "2025-02-21T22:02:11.111515Z",
     "start_time": "2025-02-21T22:02:10.933273Z"
    }
   },
   "cell_type": "code",
   "source": [
    "log_model = LogisticRegression()\n",
    "log_model.fit(X_train_tfidf, train_y)"
   ],
   "id": "d646702f4655c9d5",
   "outputs": [
    {
     "data": {
      "text/plain": [
       "LogisticRegression()"
      ],
      "text/html": [
       "<style>#sk-container-id-1 {\n",
       "  /* Definition of color scheme common for light and dark mode */\n",
       "  --sklearn-color-text: black;\n",
       "  --sklearn-color-line: gray;\n",
       "  /* Definition of color scheme for unfitted estimators */\n",
       "  --sklearn-color-unfitted-level-0: #fff5e6;\n",
       "  --sklearn-color-unfitted-level-1: #f6e4d2;\n",
       "  --sklearn-color-unfitted-level-2: #ffe0b3;\n",
       "  --sklearn-color-unfitted-level-3: chocolate;\n",
       "  /* Definition of color scheme for fitted estimators */\n",
       "  --sklearn-color-fitted-level-0: #f0f8ff;\n",
       "  --sklearn-color-fitted-level-1: #d4ebff;\n",
       "  --sklearn-color-fitted-level-2: #b3dbfd;\n",
       "  --sklearn-color-fitted-level-3: cornflowerblue;\n",
       "\n",
       "  /* Specific color for light theme */\n",
       "  --sklearn-color-text-on-default-background: var(--sg-text-color, var(--theme-code-foreground, var(--jp-content-font-color1, black)));\n",
       "  --sklearn-color-background: var(--sg-background-color, var(--theme-background, var(--jp-layout-color0, white)));\n",
       "  --sklearn-color-border-box: var(--sg-text-color, var(--theme-code-foreground, var(--jp-content-font-color1, black)));\n",
       "  --sklearn-color-icon: #696969;\n",
       "\n",
       "  @media (prefers-color-scheme: dark) {\n",
       "    /* Redefinition of color scheme for dark theme */\n",
       "    --sklearn-color-text-on-default-background: var(--sg-text-color, var(--theme-code-foreground, var(--jp-content-font-color1, white)));\n",
       "    --sklearn-color-background: var(--sg-background-color, var(--theme-background, var(--jp-layout-color0, #111)));\n",
       "    --sklearn-color-border-box: var(--sg-text-color, var(--theme-code-foreground, var(--jp-content-font-color1, white)));\n",
       "    --sklearn-color-icon: #878787;\n",
       "  }\n",
       "}\n",
       "\n",
       "#sk-container-id-1 {\n",
       "  color: var(--sklearn-color-text);\n",
       "}\n",
       "\n",
       "#sk-container-id-1 pre {\n",
       "  padding: 0;\n",
       "}\n",
       "\n",
       "#sk-container-id-1 input.sk-hidden--visually {\n",
       "  border: 0;\n",
       "  clip: rect(1px 1px 1px 1px);\n",
       "  clip: rect(1px, 1px, 1px, 1px);\n",
       "  height: 1px;\n",
       "  margin: -1px;\n",
       "  overflow: hidden;\n",
       "  padding: 0;\n",
       "  position: absolute;\n",
       "  width: 1px;\n",
       "}\n",
       "\n",
       "#sk-container-id-1 div.sk-dashed-wrapped {\n",
       "  border: 1px dashed var(--sklearn-color-line);\n",
       "  margin: 0 0.4em 0.5em 0.4em;\n",
       "  box-sizing: border-box;\n",
       "  padding-bottom: 0.4em;\n",
       "  background-color: var(--sklearn-color-background);\n",
       "}\n",
       "\n",
       "#sk-container-id-1 div.sk-container {\n",
       "  /* jupyter's `normalize.less` sets `[hidden] { display: none; }`\n",
       "     but bootstrap.min.css set `[hidden] { display: none !important; }`\n",
       "     so we also need the `!important` here to be able to override the\n",
       "     default hidden behavior on the sphinx rendered scikit-learn.org.\n",
       "     See: https://github.com/scikit-learn/scikit-learn/issues/21755 */\n",
       "  display: inline-block !important;\n",
       "  position: relative;\n",
       "}\n",
       "\n",
       "#sk-container-id-1 div.sk-text-repr-fallback {\n",
       "  display: none;\n",
       "}\n",
       "\n",
       "div.sk-parallel-item,\n",
       "div.sk-serial,\n",
       "div.sk-item {\n",
       "  /* draw centered vertical line to link estimators */\n",
       "  background-image: linear-gradient(var(--sklearn-color-text-on-default-background), var(--sklearn-color-text-on-default-background));\n",
       "  background-size: 2px 100%;\n",
       "  background-repeat: no-repeat;\n",
       "  background-position: center center;\n",
       "}\n",
       "\n",
       "/* Parallel-specific style estimator block */\n",
       "\n",
       "#sk-container-id-1 div.sk-parallel-item::after {\n",
       "  content: \"\";\n",
       "  width: 100%;\n",
       "  border-bottom: 2px solid var(--sklearn-color-text-on-default-background);\n",
       "  flex-grow: 1;\n",
       "}\n",
       "\n",
       "#sk-container-id-1 div.sk-parallel {\n",
       "  display: flex;\n",
       "  align-items: stretch;\n",
       "  justify-content: center;\n",
       "  background-color: var(--sklearn-color-background);\n",
       "  position: relative;\n",
       "}\n",
       "\n",
       "#sk-container-id-1 div.sk-parallel-item {\n",
       "  display: flex;\n",
       "  flex-direction: column;\n",
       "}\n",
       "\n",
       "#sk-container-id-1 div.sk-parallel-item:first-child::after {\n",
       "  align-self: flex-end;\n",
       "  width: 50%;\n",
       "}\n",
       "\n",
       "#sk-container-id-1 div.sk-parallel-item:last-child::after {\n",
       "  align-self: flex-start;\n",
       "  width: 50%;\n",
       "}\n",
       "\n",
       "#sk-container-id-1 div.sk-parallel-item:only-child::after {\n",
       "  width: 0;\n",
       "}\n",
       "\n",
       "/* Serial-specific style estimator block */\n",
       "\n",
       "#sk-container-id-1 div.sk-serial {\n",
       "  display: flex;\n",
       "  flex-direction: column;\n",
       "  align-items: center;\n",
       "  background-color: var(--sklearn-color-background);\n",
       "  padding-right: 1em;\n",
       "  padding-left: 1em;\n",
       "}\n",
       "\n",
       "\n",
       "/* Toggleable style: style used for estimator/Pipeline/ColumnTransformer box that is\n",
       "clickable and can be expanded/collapsed.\n",
       "- Pipeline and ColumnTransformer use this feature and define the default style\n",
       "- Estimators will overwrite some part of the style using the `sk-estimator` class\n",
       "*/\n",
       "\n",
       "/* Pipeline and ColumnTransformer style (default) */\n",
       "\n",
       "#sk-container-id-1 div.sk-toggleable {\n",
       "  /* Default theme specific background. It is overwritten whether we have a\n",
       "  specific estimator or a Pipeline/ColumnTransformer */\n",
       "  background-color: var(--sklearn-color-background);\n",
       "}\n",
       "\n",
       "/* Toggleable label */\n",
       "#sk-container-id-1 label.sk-toggleable__label {\n",
       "  cursor: pointer;\n",
       "  display: block;\n",
       "  width: 100%;\n",
       "  margin-bottom: 0;\n",
       "  padding: 0.5em;\n",
       "  box-sizing: border-box;\n",
       "  text-align: center;\n",
       "}\n",
       "\n",
       "#sk-container-id-1 label.sk-toggleable__label-arrow:before {\n",
       "  /* Arrow on the left of the label */\n",
       "  content: \"▸\";\n",
       "  float: left;\n",
       "  margin-right: 0.25em;\n",
       "  color: var(--sklearn-color-icon);\n",
       "}\n",
       "\n",
       "#sk-container-id-1 label.sk-toggleable__label-arrow:hover:before {\n",
       "  color: var(--sklearn-color-text);\n",
       "}\n",
       "\n",
       "/* Toggleable content - dropdown */\n",
       "\n",
       "#sk-container-id-1 div.sk-toggleable__content {\n",
       "  max-height: 0;\n",
       "  max-width: 0;\n",
       "  overflow: hidden;\n",
       "  text-align: left;\n",
       "  /* unfitted */\n",
       "  background-color: var(--sklearn-color-unfitted-level-0);\n",
       "}\n",
       "\n",
       "#sk-container-id-1 div.sk-toggleable__content.fitted {\n",
       "  /* fitted */\n",
       "  background-color: var(--sklearn-color-fitted-level-0);\n",
       "}\n",
       "\n",
       "#sk-container-id-1 div.sk-toggleable__content pre {\n",
       "  margin: 0.2em;\n",
       "  border-radius: 0.25em;\n",
       "  color: var(--sklearn-color-text);\n",
       "  /* unfitted */\n",
       "  background-color: var(--sklearn-color-unfitted-level-0);\n",
       "}\n",
       "\n",
       "#sk-container-id-1 div.sk-toggleable__content.fitted pre {\n",
       "  /* unfitted */\n",
       "  background-color: var(--sklearn-color-fitted-level-0);\n",
       "}\n",
       "\n",
       "#sk-container-id-1 input.sk-toggleable__control:checked~div.sk-toggleable__content {\n",
       "  /* Expand drop-down */\n",
       "  max-height: 200px;\n",
       "  max-width: 100%;\n",
       "  overflow: auto;\n",
       "}\n",
       "\n",
       "#sk-container-id-1 input.sk-toggleable__control:checked~label.sk-toggleable__label-arrow:before {\n",
       "  content: \"▾\";\n",
       "}\n",
       "\n",
       "/* Pipeline/ColumnTransformer-specific style */\n",
       "\n",
       "#sk-container-id-1 div.sk-label input.sk-toggleable__control:checked~label.sk-toggleable__label {\n",
       "  color: var(--sklearn-color-text);\n",
       "  background-color: var(--sklearn-color-unfitted-level-2);\n",
       "}\n",
       "\n",
       "#sk-container-id-1 div.sk-label.fitted input.sk-toggleable__control:checked~label.sk-toggleable__label {\n",
       "  background-color: var(--sklearn-color-fitted-level-2);\n",
       "}\n",
       "\n",
       "/* Estimator-specific style */\n",
       "\n",
       "/* Colorize estimator box */\n",
       "#sk-container-id-1 div.sk-estimator input.sk-toggleable__control:checked~label.sk-toggleable__label {\n",
       "  /* unfitted */\n",
       "  background-color: var(--sklearn-color-unfitted-level-2);\n",
       "}\n",
       "\n",
       "#sk-container-id-1 div.sk-estimator.fitted input.sk-toggleable__control:checked~label.sk-toggleable__label {\n",
       "  /* fitted */\n",
       "  background-color: var(--sklearn-color-fitted-level-2);\n",
       "}\n",
       "\n",
       "#sk-container-id-1 div.sk-label label.sk-toggleable__label,\n",
       "#sk-container-id-1 div.sk-label label {\n",
       "  /* The background is the default theme color */\n",
       "  color: var(--sklearn-color-text-on-default-background);\n",
       "}\n",
       "\n",
       "/* On hover, darken the color of the background */\n",
       "#sk-container-id-1 div.sk-label:hover label.sk-toggleable__label {\n",
       "  color: var(--sklearn-color-text);\n",
       "  background-color: var(--sklearn-color-unfitted-level-2);\n",
       "}\n",
       "\n",
       "/* Label box, darken color on hover, fitted */\n",
       "#sk-container-id-1 div.sk-label.fitted:hover label.sk-toggleable__label.fitted {\n",
       "  color: var(--sklearn-color-text);\n",
       "  background-color: var(--sklearn-color-fitted-level-2);\n",
       "}\n",
       "\n",
       "/* Estimator label */\n",
       "\n",
       "#sk-container-id-1 div.sk-label label {\n",
       "  font-family: monospace;\n",
       "  font-weight: bold;\n",
       "  display: inline-block;\n",
       "  line-height: 1.2em;\n",
       "}\n",
       "\n",
       "#sk-container-id-1 div.sk-label-container {\n",
       "  text-align: center;\n",
       "}\n",
       "\n",
       "/* Estimator-specific */\n",
       "#sk-container-id-1 div.sk-estimator {\n",
       "  font-family: monospace;\n",
       "  border: 1px dotted var(--sklearn-color-border-box);\n",
       "  border-radius: 0.25em;\n",
       "  box-sizing: border-box;\n",
       "  margin-bottom: 0.5em;\n",
       "  /* unfitted */\n",
       "  background-color: var(--sklearn-color-unfitted-level-0);\n",
       "}\n",
       "\n",
       "#sk-container-id-1 div.sk-estimator.fitted {\n",
       "  /* fitted */\n",
       "  background-color: var(--sklearn-color-fitted-level-0);\n",
       "}\n",
       "\n",
       "/* on hover */\n",
       "#sk-container-id-1 div.sk-estimator:hover {\n",
       "  /* unfitted */\n",
       "  background-color: var(--sklearn-color-unfitted-level-2);\n",
       "}\n",
       "\n",
       "#sk-container-id-1 div.sk-estimator.fitted:hover {\n",
       "  /* fitted */\n",
       "  background-color: var(--sklearn-color-fitted-level-2);\n",
       "}\n",
       "\n",
       "/* Specification for estimator info (e.g. \"i\" and \"?\") */\n",
       "\n",
       "/* Common style for \"i\" and \"?\" */\n",
       "\n",
       ".sk-estimator-doc-link,\n",
       "a:link.sk-estimator-doc-link,\n",
       "a:visited.sk-estimator-doc-link {\n",
       "  float: right;\n",
       "  font-size: smaller;\n",
       "  line-height: 1em;\n",
       "  font-family: monospace;\n",
       "  background-color: var(--sklearn-color-background);\n",
       "  border-radius: 1em;\n",
       "  height: 1em;\n",
       "  width: 1em;\n",
       "  text-decoration: none !important;\n",
       "  margin-left: 1ex;\n",
       "  /* unfitted */\n",
       "  border: var(--sklearn-color-unfitted-level-1) 1pt solid;\n",
       "  color: var(--sklearn-color-unfitted-level-1);\n",
       "}\n",
       "\n",
       ".sk-estimator-doc-link.fitted,\n",
       "a:link.sk-estimator-doc-link.fitted,\n",
       "a:visited.sk-estimator-doc-link.fitted {\n",
       "  /* fitted */\n",
       "  border: var(--sklearn-color-fitted-level-1) 1pt solid;\n",
       "  color: var(--sklearn-color-fitted-level-1);\n",
       "}\n",
       "\n",
       "/* On hover */\n",
       "div.sk-estimator:hover .sk-estimator-doc-link:hover,\n",
       ".sk-estimator-doc-link:hover,\n",
       "div.sk-label-container:hover .sk-estimator-doc-link:hover,\n",
       ".sk-estimator-doc-link:hover {\n",
       "  /* unfitted */\n",
       "  background-color: var(--sklearn-color-unfitted-level-3);\n",
       "  color: var(--sklearn-color-background);\n",
       "  text-decoration: none;\n",
       "}\n",
       "\n",
       "div.sk-estimator.fitted:hover .sk-estimator-doc-link.fitted:hover,\n",
       ".sk-estimator-doc-link.fitted:hover,\n",
       "div.sk-label-container:hover .sk-estimator-doc-link.fitted:hover,\n",
       ".sk-estimator-doc-link.fitted:hover {\n",
       "  /* fitted */\n",
       "  background-color: var(--sklearn-color-fitted-level-3);\n",
       "  color: var(--sklearn-color-background);\n",
       "  text-decoration: none;\n",
       "}\n",
       "\n",
       "/* Span, style for the box shown on hovering the info icon */\n",
       ".sk-estimator-doc-link span {\n",
       "  display: none;\n",
       "  z-index: 9999;\n",
       "  position: relative;\n",
       "  font-weight: normal;\n",
       "  right: .2ex;\n",
       "  padding: .5ex;\n",
       "  margin: .5ex;\n",
       "  width: min-content;\n",
       "  min-width: 20ex;\n",
       "  max-width: 50ex;\n",
       "  color: var(--sklearn-color-text);\n",
       "  box-shadow: 2pt 2pt 4pt #999;\n",
       "  /* unfitted */\n",
       "  background: var(--sklearn-color-unfitted-level-0);\n",
       "  border: .5pt solid var(--sklearn-color-unfitted-level-3);\n",
       "}\n",
       "\n",
       ".sk-estimator-doc-link.fitted span {\n",
       "  /* fitted */\n",
       "  background: var(--sklearn-color-fitted-level-0);\n",
       "  border: var(--sklearn-color-fitted-level-3);\n",
       "}\n",
       "\n",
       ".sk-estimator-doc-link:hover span {\n",
       "  display: block;\n",
       "}\n",
       "\n",
       "/* \"?\"-specific style due to the `<a>` HTML tag */\n",
       "\n",
       "#sk-container-id-1 a.estimator_doc_link {\n",
       "  float: right;\n",
       "  font-size: 1rem;\n",
       "  line-height: 1em;\n",
       "  font-family: monospace;\n",
       "  background-color: var(--sklearn-color-background);\n",
       "  border-radius: 1rem;\n",
       "  height: 1rem;\n",
       "  width: 1rem;\n",
       "  text-decoration: none;\n",
       "  /* unfitted */\n",
       "  color: var(--sklearn-color-unfitted-level-1);\n",
       "  border: var(--sklearn-color-unfitted-level-1) 1pt solid;\n",
       "}\n",
       "\n",
       "#sk-container-id-1 a.estimator_doc_link.fitted {\n",
       "  /* fitted */\n",
       "  border: var(--sklearn-color-fitted-level-1) 1pt solid;\n",
       "  color: var(--sklearn-color-fitted-level-1);\n",
       "}\n",
       "\n",
       "/* On hover */\n",
       "#sk-container-id-1 a.estimator_doc_link:hover {\n",
       "  /* unfitted */\n",
       "  background-color: var(--sklearn-color-unfitted-level-3);\n",
       "  color: var(--sklearn-color-background);\n",
       "  text-decoration: none;\n",
       "}\n",
       "\n",
       "#sk-container-id-1 a.estimator_doc_link.fitted:hover {\n",
       "  /* fitted */\n",
       "  background-color: var(--sklearn-color-fitted-level-3);\n",
       "}\n",
       "</style><div id=\"sk-container-id-1\" class=\"sk-top-container\"><div class=\"sk-text-repr-fallback\"><pre>LogisticRegression()</pre><b>In a Jupyter environment, please rerun this cell to show the HTML representation or trust the notebook. <br />On GitHub, the HTML representation is unable to render, please try loading this page with nbviewer.org.</b></div><div class=\"sk-container\" hidden><div class=\"sk-item\"><div class=\"sk-estimator fitted sk-toggleable\"><input class=\"sk-toggleable__control sk-hidden--visually\" id=\"sk-estimator-id-1\" type=\"checkbox\" checked><label for=\"sk-estimator-id-1\" class=\"sk-toggleable__label fitted sk-toggleable__label-arrow fitted\">&nbsp;&nbsp;LogisticRegression<a class=\"sk-estimator-doc-link fitted\" rel=\"noreferrer\" target=\"_blank\" href=\"https://scikit-learn.org/1.4/modules/generated/sklearn.linear_model.LogisticRegression.html\">?<span>Documentation for LogisticRegression</span></a><span class=\"sk-estimator-doc-link fitted\">i<span>Fitted</span></span></label><div class=\"sk-toggleable__content fitted\"><pre>LogisticRegression()</pre></div> </div></div></div></div>"
      ]
     },
     "execution_count": 24,
     "metadata": {},
     "output_type": "execute_result"
    }
   ],
   "execution_count": 24
  },
  {
   "metadata": {},
   "cell_type": "markdown",
   "source": "### Model Performance\n",
   "id": "9585abb4d7bdb25a"
  },
  {
   "metadata": {
    "ExecuteTime": {
     "end_time": "2025-02-21T22:03:08.526639Z",
     "start_time": "2025-02-21T22:03:08.493020Z"
    }
   },
   "cell_type": "code",
   "source": [
    "y_pred = log_model.predict(X_test_tfidf)\n",
    "print(\"Model Performance:\")\n",
    "print(classification_report(y_pred, test_y))"
   ],
   "id": "9217b3f2b4e8eb02",
   "outputs": [
    {
     "name": "stdout",
     "output_type": "stream",
     "text": [
      "Model Performance:\n",
      "              precision    recall  f1-score   support\n",
      "\n",
      "         neg       0.33      0.90      0.49        82\n",
      "         pos       0.99      0.89      0.94      1321\n",
      "\n",
      "    accuracy                           0.89      1403\n",
      "   macro avg       0.66      0.89      0.71      1403\n",
      "weighted avg       0.95      0.89      0.91      1403\n",
      "\n"
     ]
    }
   ],
   "execution_count": 25
  },
  {
   "metadata": {
    "ExecuteTime": {
     "end_time": "2025-02-21T22:07:54.200604Z",
     "start_time": "2025-02-21T22:07:54.147061Z"
    }
   },
   "cell_type": "code",
   "source": "log_score = cross_val_score(log_model, X_test_tfidf, test_y, cv=5).mean()",
   "id": "3ecd0368e2bb7252",
   "outputs": [],
   "execution_count": 31
  },
  {
   "metadata": {},
   "cell_type": "markdown",
   "source": "##### Selecting a random comment and making a prediction\n",
   "id": "bc98b76f8c3fede8"
  },
  {
   "metadata": {
    "ExecuteTime": {
     "end_time": "2025-02-21T22:04:10.773828Z",
     "start_time": "2025-02-21T22:04:10.760371Z"
    }
   },
   "cell_type": "code",
   "source": [
    "random_review = df[\"Review\"].sample(1).iloc[0]\n",
    "new_review = tfidf.transform([random_review])\n",
    "pred = log_model.predict(new_review)\n",
    "\n",
    "print(f\"Review: {random_review} \\nPrediction: {pred}\")"
   ],
   "id": "e74971440ad905a6",
   "outputs": [
    {
     "name": "stdout",
     "output_type": "stream",
     "text": [
      "Review: pattern material awsome \n",
      "Prediction: ['neg']\n"
     ]
    }
   ],
   "execution_count": 27
  },
  {
   "metadata": {},
   "cell_type": "markdown",
   "source": "## Modeling (Random Forest)\n",
   "id": "1a54029ea64747a1"
  },
  {
   "metadata": {
    "ExecuteTime": {
     "end_time": "2025-02-21T22:08:00.483517Z",
     "start_time": "2025-02-21T22:07:58.334306Z"
    }
   },
   "cell_type": "code",
   "source": [
    "rf_model = RandomForestClassifier().fit(X_train_tfidf, train_y)\n",
    "rf_score = cross_val_score(rf_model, X_test_tfidf, test_y, cv=5, n_jobs=-1).mean()"
   ],
   "id": "91b69ec8d6eabd32",
   "outputs": [],
   "execution_count": 32
  },
  {
   "metadata": {},
   "cell_type": "markdown",
   "source": "### Model Performance Comparison and Evaluation",
   "id": "fc39af8411e44a12"
  },
  {
   "metadata": {
    "ExecuteTime": {
     "end_time": "2025-02-21T22:08:04.926732Z",
     "start_time": "2025-02-21T22:08:04.921435Z"
    }
   },
   "cell_type": "code",
   "source": [
    "print(f\"Logistic Regression Score: {log_score:.4f}\")\n",
    "print(f\"Random Forest Score: {rf_score:.4f}\")\n",
    "\n",
    "if log_score > rf_score:\n",
    "    print(\"Logistic Regression performed better.\")\n",
    "elif log_score < rf_score:\n",
    "    print(\"Random Forest performed better.\")\n",
    "else:\n",
    "    print(\"Both models performed equally well.\")"
   ],
   "id": "ea1872c54361c803",
   "outputs": [
    {
     "name": "stdout",
     "output_type": "stream",
     "text": [
      "Logistic Regression Score: 0.8546\n",
      "Random Forest Score: 0.8895\n",
      "Random Forest performed better.\n"
     ]
    }
   ],
   "execution_count": 33
  },
  {
   "metadata": {
    "ExecuteTime": {
     "end_time": "2025-02-21T22:08:41.570411Z",
     "start_time": "2025-02-21T22:08:41.555292Z"
    }
   },
   "cell_type": "code",
   "source": [
    "diff = abs(log_score - rf_score)\n",
    "percentage_diff = (diff / max(log_score, rf_score)) * 100\n",
    "print(f\"Performance difference: {percentage_diff:.2f}%\")"
   ],
   "id": "9777bb2bf16c5184",
   "outputs": [
    {
     "name": "stdout",
     "output_type": "stream",
     "text": [
      "Performance difference: 3.93%\n"
     ]
    }
   ],
   "execution_count": 34
  }
 ],
 "metadata": {
  "kernelspec": {
   "display_name": "Python 3",
   "language": "python",
   "name": "python3"
  },
  "language_info": {
   "codemirror_mode": {
    "name": "ipython",
    "version": 2
   },
   "file_extension": ".py",
   "mimetype": "text/x-python",
   "name": "python",
   "nbconvert_exporter": "python",
   "pygments_lexer": "ipython2",
   "version": "2.7.6"
  }
 },
 "nbformat": 4,
 "nbformat_minor": 5
}
